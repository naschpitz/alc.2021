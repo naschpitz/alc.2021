{
 "cells": [
  {
   "cell_type": "code",
   "execution_count": null,
   "metadata": {},
   "outputs": [],
   "source": [
    "#lista_1 exercício_4, recebe uma matriz 3x3 e retorna distância do 3ºvetor para o plano gerado \n",
    "#pelos outros dois vetores/ retorna o tamanho do primeiro vetor /retorna o tamanho da projeção do 3º vetor no plano \n",
    "#gerado pelos outros dois vetores /retorna o tamanho da projeção do 2ºvetor na reta gerada pelo 1º vetor /retorna o\n",
    "#tamanho do 3ºvetor\n",
    "function tamanho_distancia(A)\n",
    "    m,n=size(A) # m,n recebe  o tamanho da matriz A\n",
    "    respB=zeros() #inicia a variavél com valor zero\n",
    "    respC=zeros() #inicia a variavél com valor zero\n",
    "    respD=zeros() #inicia a variavél com valor zero\n",
    "    respE=zeros() #inicia a variavél com valor zero\n",
    "    respF=zeros() #inicia a variavél com valor zero\n",
    "    \n",
    "    Q,R=qr(A) #aplica a função qr na matriz de entrada A\n",
    "    \n",
    "#a função qr produz duas matrizes Q(uma matriz ortogonal) e R(uma matriz triangular superior). \n",
    "#Q é a matriz de entrada ortogonalizada e R é a matriz de entrada agora triangular superior. logo: Tendo uma matriz\n",
    "#ortogonal e uma matriz triangular superior, podemos obter as respostas com base na matriz R \n",
    "    \n",
    "        respB=norm(R[3,3]) #será ||R[:,3] - (R13 + R23)|| \n",
    "        respC=norm(R[:,1]) #será a norma do primeiro vetor da matriz R\n",
    "        respD=norm([R[1,3];R[2,3];0]) #será a norma das duas primeiras coordenada de R3\n",
    "        respE=norm(R[1,2])  #será a norma da primeira coordenada de R2\n",
    "        respF=norm(R[:,3]) #será a norma de R3\n",
    "    return respB, respC, respD, respE, respF\n",
    "end"
   ]
  }
 ],
 "metadata": {
  "kernelspec": {
   "display_name": "Julia 1.6.1",
   "language": "julia",
   "name": "julia-1.6"
  },
  "language_info": {
   "file_extension": ".jl",
   "mimetype": "application/julia",
   "name": "julia",
   "version": "1.6.1"
  }
 },
 "nbformat": 4,
 "nbformat_minor": 4
}
